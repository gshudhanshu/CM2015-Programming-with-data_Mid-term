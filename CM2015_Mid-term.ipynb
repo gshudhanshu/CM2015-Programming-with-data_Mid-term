{
 "cells": [
  {
   "cell_type": "markdown",
   "source": [
    "# Cryptocurrency data analysis and price prediction using ARIMA and Seasonal ARIMA model\n",
    "#### Project Proposal"
   ],
   "metadata": {
    "collapsed": false,
    "pycharm": {
     "name": "#%% md\n"
    }
   }
  },
  {
   "cell_type": "markdown",
   "source": [
    "## 1. Aims, objective and background\n",
    "### 1.1 Introduction\n",
    "Cryptocurrencies are quickly challenging traditional currencies throughout the world. Digital currencies may be purchased in a variety of ways, making them accessible to everyone, and merchants adopting multiple cryptocurrencies could signal that money as we know it is about to undergo a huge transformation.\n",
    "\n",
    "Bitcoin was the first cryptocurrency launched in the year 2009 and since then the popularity and acceptibility of blockchain and cryptocurrencies has only grown upward direction. Due to its unique qualities of blockchain, such as security and transparency, cheaper cost and decentralisation, it is already being used to solve variety of real world problems as per Mallqui and Fernandes [5].\n",
    "\n",
    "This project was inspired by Chaudhari, A. (2020, June 11). Forecasting Cryptocurrency Prices using Machine Learning [3] and Chakrabarti, S. (2021, December 3). Cryptocurrency Price Prediction using ARIMA Model [4]. The authors used data science ARIMA, LSTM and Prophet models to predict the cryptocurrency prices.\n",
    "\n",
    "I have decided to focus on next few months price prediction of 4 cryptocurrencies which includes Bitcoin (BTC), Ethereum (ETH), Shiba Inu (SHIB), Solana (SOL).\n",
    "\n",
    "### 1.2 Aims and objectives\n",
    "For this project I would like to exlpore following things\n",
    "1. Analysing of history data of cryptocurrency.\n",
    "2. Using history data making visualizations (graphs)\n",
    "3. Looking for relationship of the graphs.\n",
    "4. Checking the instantaneous move of one coin (BTC) affect others.\n",
    "5. Using (Autoregressive integrated moving average) model and SARIMAX (Seasonal AutoRegressive Integrated Moving Average with eXogenous regressors) model for predicting next months prices.\n",
    "\n",
    "For this project my aims are\n",
    "1. Decide how much history data is required to use ARIMA and SARIMAX models.\n",
    "2. Decide which currencies will be best for my project.\n",
    "3. Collecting data via API/wesrapping and storing in better format so that I can do data cleaning.\n",
    "4. Clean the scraped or API history data suitable for data analysis\n",
    "5. Perform some data analysis to see if there are any trends in the data that may be helpful for future investigation.\n",
    "6. Calculate the accuracy of price predication.\n"
   ],
   "metadata": {
    "collapsed": false
   }
  },
  {
   "cell_type": "markdown",
   "source": [
    "## 7. References and Resources\n",
    "### 7.1 References\n",
    "[1]: Use our data. (n.d.). Investing Support. https://www.investing-support.com/hc/en-us/articles/360002357417\n",
    "[2]: FRANKENFIELD, J. A. K. E. (2021, December 20). Cryptocurrency. Investopedia. https://www.investopedia.com/terms/c/cryptocurrency.asp\n",
    "[3]: Chaudhari, A. (2020, June 11). Forecasting Cryptocurrency Prices using Machine Learning - NORMA@NCI Library. Norma.Ncirl.Ie. http://norma.ncirl.ie/4272/\n",
    "[4]: Chakrabarti, S. (2021, December 3). Cryptocurrency Price Prediction using ARIMA Model. Analytics Vidhya. https://www.analyticsvidhya.com/blog/2021/12/cryptocurrency-price-prediction-using-arima-model/\n",
    "[5]: Mallqui, D., & Fernandes, R. (2019b, February 1). Predicting the direction, maximum, minimum and closing prices of daily Bitcoin exchange rate using machine learning techniques. ScienceDirect. https://www.sciencedirect.com/science/article/pii/S1568494618306707\n",
    "[6]: George, D. (2021, December 14). A Brief Introduction to ARIMA and SARIMAX Modeling in Python. Medium. https://medium.com/swlh/a-brief-introduction-to-arima-and-sarima-modeling-in-python-87a58d375def.\n",
    "\n",
    "\n",
    "### 7.2 Resources used"
   ],
   "metadata": {
    "collapsed": false
   }
  },
  {
   "cell_type": "code",
   "execution_count": null,
   "outputs": [],
   "source": [],
   "metadata": {
    "collapsed": false,
    "pycharm": {
     "name": "#%%\n"
    }
   }
  }
 ],
 "metadata": {
  "kernelspec": {
   "display_name": "Python 3",
   "language": "python",
   "name": "python3"
  },
  "language_info": {
   "codemirror_mode": {
    "name": "ipython",
    "version": 3
   },
   "file_extension": ".py",
   "mimetype": "text/x-python",
   "name": "python",
   "nbconvert_exporter": "python",
   "pygments_lexer": "ipython3",
   "version": "3.8.8"
  }
 },
 "nbformat": 4,
 "nbformat_minor": 5
}